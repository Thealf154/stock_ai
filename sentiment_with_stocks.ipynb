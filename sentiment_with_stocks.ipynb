{
 "cells": [
  {
   "cell_type": "code",
   "execution_count": null,
   "metadata": {},
   "outputs": [],
   "source": [
    "import pandas as pd\n",
    "import os"
   ]
  },
  {
   "cell_type": "code",
   "execution_count": null,
   "metadata": {},
   "outputs": [],
   "source": [
    "nyse_holidays = [\n",
    "    \"2023-01-02\",\n",
    "    \"2023-01-16\",\n",
    "    \"2023-02-20\",\n",
    "    \"2023-04-14\",\n",
    "    \"2023-05-29\",\n",
    "    \"2023-07-04\",\n",
    "    \"2023-09-04\",\n",
    "    \"2023-11-23\",\n",
    "    \"2023-12-25\"\n",
    "]\n",
    "EXAMPLE = \"AAPL\"\n",
    "STOCK_OPENING_HOUR = 10 #UTC\n",
    "STOCK_OPENING_MIN = 30 #UTC\n",
    "STOCK_CLOSE_HOUR = 20 #UTC\n",
    "STOCK_CLOSE_MIN = 0 #UTC\n",
    "news_path = os.path.join(\"./\", \"news_sentiments.csv\")\n",
    "stocks_path = os.path.join(\"./\", \"stocks.csv\")\n",
    "stocks = pd.read_csv(stocks_path)\n",
    "news = pd.read_csv(news_path)"
   ]
  },
  {
   "cell_type": "code",
   "execution_count": null,
   "metadata": {},
   "outputs": [],
   "source": [
    "# Make valid dates without timezone\n",
    "news[\"date\"] = pd.to_datetime(news['pub_date'],errors='coerce',utc=True).dt.tz_localize(None)\n",
    "stocks['Date'] = pd.to_datetime(stocks[\"Date\"], errors=\"coerce\",utc=True).dt.tz_localize(None)\n",
    "stocks.set_index('Date', inplace=True)"
   ]
  },
  {
   "cell_type": "code",
   "execution_count": null,
   "metadata": {},
   "outputs": [],
   "source": [
    "def get_affected_day(date):\n",
    "    close_hour = date.replace(hour=STOCK_CLOSE_HOUR, minute=STOCK_CLOSE_MIN)\n",
    "    if (date > close_hour) or (date.strftime(\"%Y-%m-%d\") in nyse_holidays):\n",
    "        date = date.replace(hour=STOCK_OPENING_HOUR, minute=STOCK_OPENING_MIN)\n",
    "        date = date + pd.Timedelta(days=1)\n",
    "    return date\n",
    "\n",
    "news[\"affected_day\"] = news[\"date\"].apply(get_affected_day)\n",
    "news.tail()"
   ]
  },
  {
   "cell_type": "code",
   "execution_count": null,
   "metadata": {},
   "outputs": [],
   "source": [
    "def add_stock_results(row):\n",
    "    date = row[\"affected_day\"].strftime(\"%Y-%m-%d\")\n",
    "    stock_values = stocks[\n",
    "        (stocks['Ticker'] == row['ticker'])\n",
    "    ]\n",
    "    stock_values = stock_values.loc[date, [\"Open\",\"Close\"]]\n",
    "    if len(stock_values.values) != 0:\n",
    "        stock_values = stock_values.values[0].tolist()\n",
    "        stock_values.append(stock_values[0]-stock_values[1])\n",
    "    else:\n",
    "        stock_values = [None, None, None]\n",
    "    return stock_values\n",
    "    \n",
    "news[\n",
    "    ['Open', 'Close', 'Open-Close']\n",
    "] = news.apply(lambda row: pd.Series(add_stock_results(row)), axis=1)\n",
    "\n",
    "news.tail()"
   ]
  },
  {
   "cell_type": "code",
   "execution_count": null,
   "metadata": {},
   "outputs": [],
   "source": [
    "news.to_csv(\"complete_data.csv\", index=False)"
   ]
  },
  {
   "cell_type": "code",
   "execution_count": null,
   "metadata": {},
   "outputs": [],
   "source": [
    "del news['title']\n",
    "del news['description']\n",
    "del news['pub_date']\n",
    "del news['link']\n",
    "del news['date']"
   ]
  },
  {
   "cell_type": "code",
   "execution_count": null,
   "metadata": {},
   "outputs": [],
   "source": [
    "news.to_csv(\"trainment.csv\", index=False)"
   ]
  }
 ],
 "metadata": {
  "kernelspec": {
   "display_name": "base",
   "language": "python",
   "name": "python3"
  },
  "language_info": {
   "codemirror_mode": {
    "name": "ipython",
    "version": 3
   },
   "file_extension": ".py",
   "mimetype": "text/x-python",
   "name": "python",
   "nbconvert_exporter": "python",
   "pygments_lexer": "ipython3",
   "version": "3.9.12"
  },
  "orig_nbformat": 4
 },
 "nbformat": 4,
 "nbformat_minor": 2
}
