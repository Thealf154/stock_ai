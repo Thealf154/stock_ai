{
 "cells": [
  {
   "cell_type": "code",
   "execution_count": 28,
   "metadata": {},
   "outputs": [],
   "source": [
    "# HEAVILY DRAWN FROM: \n",
    "# https://www.tensorflow.org/tutorials/load_data/pandas_dataframe\n",
    "import pandas as pd\n",
    "import tensorflow as tf\n",
    "import os\n",
    "BATCH_SIZE = 2"
   ]
  },
  {
   "cell_type": "code",
   "execution_count": 29,
   "metadata": {},
   "outputs": [
    {
     "data": {
      "text/html": [
       "<div>\n",
       "<style scoped>\n",
       "    .dataframe tbody tr th:only-of-type {\n",
       "        vertical-align: middle;\n",
       "    }\n",
       "\n",
       "    .dataframe tbody tr th {\n",
       "        vertical-align: top;\n",
       "    }\n",
       "\n",
       "    .dataframe thead th {\n",
       "        text-align: right;\n",
       "    }\n",
       "</style>\n",
       "<table border=\"1\" class=\"dataframe\">\n",
       "  <thead>\n",
       "    <tr style=\"text-align: right;\">\n",
       "      <th></th>\n",
       "      <th>ticker</th>\n",
       "      <th>polarity_title</th>\n",
       "      <th>subjectivity_title</th>\n",
       "      <th>polarity_description</th>\n",
       "      <th>subjectivity_description</th>\n",
       "      <th>Open</th>\n",
       "      <th>Close</th>\n",
       "      <th>Open-Close</th>\n",
       "      <th>target</th>\n",
       "    </tr>\n",
       "  </thead>\n",
       "  <tbody>\n",
       "    <tr>\n",
       "      <th>1592</th>\n",
       "      <td>YELP</td>\n",
       "      <td>0.000</td>\n",
       "      <td>0.100000</td>\n",
       "      <td>0.182567</td>\n",
       "      <td>0.392550</td>\n",
       "      <td>29.440001</td>\n",
       "      <td>30.33</td>\n",
       "      <td>-0.889999</td>\n",
       "      <td>0</td>\n",
       "    </tr>\n",
       "    <tr>\n",
       "      <th>1593</th>\n",
       "      <td>YELP</td>\n",
       "      <td>0.000</td>\n",
       "      <td>0.000000</td>\n",
       "      <td>0.180139</td>\n",
       "      <td>0.416358</td>\n",
       "      <td>29.440001</td>\n",
       "      <td>30.33</td>\n",
       "      <td>-0.889999</td>\n",
       "      <td>0</td>\n",
       "    </tr>\n",
       "    <tr>\n",
       "      <th>1594</th>\n",
       "      <td>YELP</td>\n",
       "      <td>0.075</td>\n",
       "      <td>0.366667</td>\n",
       "      <td>0.075000</td>\n",
       "      <td>0.366667</td>\n",
       "      <td>29.440001</td>\n",
       "      <td>30.33</td>\n",
       "      <td>-0.889999</td>\n",
       "      <td>0</td>\n",
       "    </tr>\n",
       "    <tr>\n",
       "      <th>1595</th>\n",
       "      <td>YELP</td>\n",
       "      <td>0.000</td>\n",
       "      <td>0.000000</td>\n",
       "      <td>0.132656</td>\n",
       "      <td>0.404388</td>\n",
       "      <td>29.440001</td>\n",
       "      <td>30.33</td>\n",
       "      <td>-0.889999</td>\n",
       "      <td>0</td>\n",
       "    </tr>\n",
       "    <tr>\n",
       "      <th>1596</th>\n",
       "      <td>YELP</td>\n",
       "      <td>0.000</td>\n",
       "      <td>0.000000</td>\n",
       "      <td>0.099260</td>\n",
       "      <td>0.424278</td>\n",
       "      <td>29.440001</td>\n",
       "      <td>30.33</td>\n",
       "      <td>-0.889999</td>\n",
       "      <td>0</td>\n",
       "    </tr>\n",
       "  </tbody>\n",
       "</table>\n",
       "</div>"
      ],
      "text/plain": [
       "     ticker  polarity_title  subjectivity_title  polarity_description  \\\n",
       "1592   YELP           0.000            0.100000              0.182567   \n",
       "1593   YELP           0.000            0.000000              0.180139   \n",
       "1594   YELP           0.075            0.366667              0.075000   \n",
       "1595   YELP           0.000            0.000000              0.132656   \n",
       "1596   YELP           0.000            0.000000              0.099260   \n",
       "\n",
       "      subjectivity_description       Open  Close  Open-Close  target  \n",
       "1592                  0.392550  29.440001  30.33   -0.889999       0  \n",
       "1593                  0.416358  29.440001  30.33   -0.889999       0  \n",
       "1594                  0.366667  29.440001  30.33   -0.889999       0  \n",
       "1595                  0.404388  29.440001  30.33   -0.889999       0  \n",
       "1596                  0.424278  29.440001  30.33   -0.889999       0  "
      ]
     },
     "execution_count": 29,
     "metadata": {},
     "output_type": "execute_result"
    }
   ],
   "source": [
    "training_path = os.path.join(\"./\", \"final_results/\", \"trainment.csv\")\n",
    "df = pd.read_csv(training_path)\n",
    "df.tail()"
   ]
  },
  {
   "cell_type": "code",
   "execution_count": 30,
   "metadata": {},
   "outputs": [],
   "source": [
    "target = df.pop('target')"
   ]
  },
  {
   "cell_type": "code",
   "execution_count": 31,
   "metadata": {},
   "outputs": [
    {
     "data": {
      "text/html": [
       "<div>\n",
       "<style scoped>\n",
       "    .dataframe tbody tr th:only-of-type {\n",
       "        vertical-align: middle;\n",
       "    }\n",
       "\n",
       "    .dataframe tbody tr th {\n",
       "        vertical-align: top;\n",
       "    }\n",
       "\n",
       "    .dataframe thead th {\n",
       "        text-align: right;\n",
       "    }\n",
       "</style>\n",
       "<table border=\"1\" class=\"dataframe\">\n",
       "  <thead>\n",
       "    <tr style=\"text-align: right;\">\n",
       "      <th></th>\n",
       "      <th>polarity_title</th>\n",
       "      <th>subjectivity_title</th>\n",
       "      <th>polarity_description</th>\n",
       "      <th>subjectivity_description</th>\n",
       "      <th>Open</th>\n",
       "      <th>Close</th>\n",
       "      <th>Open-Close</th>\n",
       "    </tr>\n",
       "  </thead>\n",
       "  <tbody>\n",
       "    <tr>\n",
       "      <th>0</th>\n",
       "      <td>0.0</td>\n",
       "      <td>0.0</td>\n",
       "      <td>0.254308</td>\n",
       "      <td>0.624943</td>\n",
       "      <td>105.040001</td>\n",
       "      <td>105.830002</td>\n",
       "      <td>-0.790001</td>\n",
       "    </tr>\n",
       "    <tr>\n",
       "      <th>1</th>\n",
       "      <td>-0.5</td>\n",
       "      <td>0.7</td>\n",
       "      <td>0.131250</td>\n",
       "      <td>0.479861</td>\n",
       "      <td>105.040001</td>\n",
       "      <td>105.830002</td>\n",
       "      <td>-0.790001</td>\n",
       "    </tr>\n",
       "    <tr>\n",
       "      <th>2</th>\n",
       "      <td>0.0</td>\n",
       "      <td>0.0</td>\n",
       "      <td>0.151176</td>\n",
       "      <td>0.502663</td>\n",
       "      <td>105.040001</td>\n",
       "      <td>105.830002</td>\n",
       "      <td>-0.790001</td>\n",
       "    </tr>\n",
       "    <tr>\n",
       "      <th>3</th>\n",
       "      <td>0.0</td>\n",
       "      <td>0.0</td>\n",
       "      <td>0.098940</td>\n",
       "      <td>0.376537</td>\n",
       "      <td>105.040001</td>\n",
       "      <td>105.830002</td>\n",
       "      <td>-0.790001</td>\n",
       "    </tr>\n",
       "    <tr>\n",
       "      <th>4</th>\n",
       "      <td>0.5</td>\n",
       "      <td>0.5</td>\n",
       "      <td>0.100000</td>\n",
       "      <td>0.600000</td>\n",
       "      <td>105.040001</td>\n",
       "      <td>105.830002</td>\n",
       "      <td>-0.790001</td>\n",
       "    </tr>\n",
       "  </tbody>\n",
       "</table>\n",
       "</div>"
      ],
      "text/plain": [
       "   polarity_title  subjectivity_title  polarity_description  \\\n",
       "0             0.0                 0.0              0.254308   \n",
       "1            -0.5                 0.7              0.131250   \n",
       "2             0.0                 0.0              0.151176   \n",
       "3             0.0                 0.0              0.098940   \n",
       "4             0.5                 0.5              0.100000   \n",
       "\n",
       "   subjectivity_description        Open       Close  Open-Close  \n",
       "0                  0.624943  105.040001  105.830002   -0.790001  \n",
       "1                  0.479861  105.040001  105.830002   -0.790001  \n",
       "2                  0.502663  105.040001  105.830002   -0.790001  \n",
       "3                  0.376537  105.040001  105.830002   -0.790001  \n",
       "4                  0.600000  105.040001  105.830002   -0.790001  "
      ]
     },
     "execution_count": 31,
     "metadata": {},
     "output_type": "execute_result"
    }
   ],
   "source": [
    "numeric_feature_names = [\n",
    "    'polarity_title', 'subjectivity_title',\n",
    "    'polarity_description', 'subjectivity_description', \n",
    "    'Open', 'Close', 'Open-Close' \n",
    "]\n",
    "numeric_features = df[numeric_feature_names]\n",
    "numeric_features.head()"
   ]
  },
  {
   "cell_type": "code",
   "execution_count": 32,
   "metadata": {},
   "outputs": [
    {
     "data": {
      "text/plain": [
       "<tf.Tensor: shape=(1597, 7), dtype=float64, numpy=\n",
       "array([[ 0.00000000e+00,  0.00000000e+00,  2.54308390e-01, ...,\n",
       "         1.05040001e+02,  1.05830002e+02, -7.90000916e-01],\n",
       "       [-5.00000000e-01,  7.00000000e-01,  1.31250000e-01, ...,\n",
       "         1.05040001e+02,  1.05830002e+02, -7.90000916e-01],\n",
       "       [ 0.00000000e+00,  0.00000000e+00,  1.51176236e-01, ...,\n",
       "         1.05040001e+02,  1.05830002e+02, -7.90000916e-01],\n",
       "       ...,\n",
       "       [ 7.50000000e-02,  3.66666667e-01,  7.50000000e-02, ...,\n",
       "         2.94400005e+01,  3.03299999e+01, -8.89999390e-01],\n",
       "       [ 0.00000000e+00,  0.00000000e+00,  1.32656396e-01, ...,\n",
       "         2.94400005e+01,  3.03299999e+01, -8.89999390e-01],\n",
       "       [ 0.00000000e+00,  0.00000000e+00,  9.92604618e-02, ...,\n",
       "         2.94400005e+01,  3.03299999e+01, -8.89999390e-01]])>"
      ]
     },
     "execution_count": 32,
     "metadata": {},
     "output_type": "execute_result"
    }
   ],
   "source": [
    "tf.convert_to_tensor(numeric_features)"
   ]
  },
  {
   "cell_type": "code",
   "execution_count": 33,
   "metadata": {},
   "outputs": [],
   "source": [
    "normalizer = tf.keras.layers.Normalization(axis=-1)\n",
    "normalizer.adapt(numeric_features)"
   ]
  },
  {
   "cell_type": "code",
   "execution_count": 34,
   "metadata": {},
   "outputs": [
    {
     "name": "stdout",
     "output_type": "stream",
     "text": [
      "Epoch 1/15\n",
      "799/799 [==============================] - 13s 15ms/step - loss: 0.4076 - accuracy: 0.8096\n",
      "Epoch 2/15\n",
      "799/799 [==============================] - 12s 14ms/step - loss: 0.1506 - accuracy: 0.9468\n",
      "Epoch 3/15\n",
      "799/799 [==============================] - 11s 14ms/step - loss: 0.0909 - accuracy: 0.9668\n",
      "Epoch 4/15\n",
      "799/799 [==============================] - 11s 14ms/step - loss: 0.0664 - accuracy: 0.9737\n",
      "Epoch 5/15\n",
      "799/799 [==============================] - 10s 12ms/step - loss: 0.0541 - accuracy: 0.9812\n",
      "Epoch 6/15\n",
      "799/799 [==============================] - 11s 13ms/step - loss: 0.0452 - accuracy: 0.9875\n",
      "Epoch 7/15\n",
      "799/799 [==============================] - 9s 11ms/step - loss: 0.0403 - accuracy: 0.9875\n",
      "Epoch 8/15\n",
      "799/799 [==============================] - 9s 11ms/step - loss: 0.0344 - accuracy: 0.9900\n",
      "Epoch 9/15\n",
      "799/799 [==============================] - 11s 14ms/step - loss: 0.0310 - accuracy: 0.9912\n",
      "Epoch 10/15\n",
      "799/799 [==============================] - 8s 10ms/step - loss: 0.0285 - accuracy: 0.9950\n",
      "Epoch 11/15\n",
      "799/799 [==============================] - 6s 8ms/step - loss: 0.0229 - accuracy: 0.9950\n",
      "Epoch 12/15\n",
      "799/799 [==============================] - 7s 9ms/step - loss: 0.0255 - accuracy: 0.9937\n",
      "Epoch 13/15\n",
      "799/799 [==============================] - 5s 6ms/step - loss: 0.0208 - accuracy: 0.9956\n",
      "Epoch 14/15\n",
      "799/799 [==============================] - 6s 8ms/step - loss: 0.0200 - accuracy: 0.9956\n",
      "Epoch 15/15\n",
      "799/799 [==============================] - 5s 7ms/step - loss: 0.0193 - accuracy: 0.9937\n"
     ]
    },
    {
     "data": {
      "text/plain": [
       "<keras.callbacks.History at 0x7f0d4c40f1f0>"
      ]
     },
     "execution_count": 34,
     "metadata": {},
     "output_type": "execute_result"
    }
   ],
   "source": [
    "def get_basic_model():\n",
    "  model = tf.keras.Sequential([\n",
    "    normalizer,\n",
    "    tf.keras.layers.Dense(10, activation='relu'),\n",
    "    tf.keras.layers.Dense(10, activation='relu'),\n",
    "    tf.keras.layers.Dense(1)\n",
    "  ])\n",
    "\n",
    "  model.compile(optimizer='adam',\n",
    "                loss=tf.keras.losses.BinaryCrossentropy(from_logits=True),\n",
    "                metrics=['accuracy'])\n",
    "  return model\n",
    "\n",
    "model = get_basic_model()\n",
    "model.fit(numeric_features, target, epochs=15, batch_size=BATCH_SIZE)"
   ]
  },
  {
   "cell_type": "code",
   "execution_count": 35,
   "metadata": {},
   "outputs": [
    {
     "name": "stdout",
     "output_type": "stream",
     "text": [
      "Model: \"sequential_1\"\n",
      "_________________________________________________________________\n",
      " Layer (type)                Output Shape              Param #   \n",
      "=================================================================\n",
      " normalization_1 (Normalizat  (None, 7)                15        \n",
      " ion)                                                            \n",
      "                                                                 \n",
      " dense_3 (Dense)             (None, 10)                80        \n",
      "                                                                 \n",
      " dense_4 (Dense)             (None, 10)                110       \n",
      "                                                                 \n",
      " dense_5 (Dense)             (None, 1)                 11        \n",
      "                                                                 \n",
      "=================================================================\n",
      "Total params: 216\n",
      "Trainable params: 201\n",
      "Non-trainable params: 15\n",
      "_________________________________________________________________\n"
     ]
    }
   ],
   "source": [
    "model.summary()"
   ]
  },
  {
   "cell_type": "code",
   "execution_count": 36,
   "metadata": {},
   "outputs": [
    {
     "name": "stderr",
     "output_type": "stream",
     "text": [
      "WARNING:absl:Found untraced functions such as _update_step_xla while saving (showing 1 of 1). These functions will not be directly callable after loading.\n"
     ]
    },
    {
     "name": "stdout",
     "output_type": "stream",
     "text": [
      "INFO:tensorflow:Assets written to: saved_model/my_model/assets\n"
     ]
    },
    {
     "name": "stderr",
     "output_type": "stream",
     "text": [
      "INFO:tensorflow:Assets written to: saved_model/my_model/assets\n"
     ]
    }
   ],
   "source": [
    "model.save('saved_model/my_model')"
   ]
  },
  {
   "cell_type": "code",
   "execution_count": null,
   "metadata": {},
   "outputs": [],
   "source": []
  }
 ],
 "metadata": {
  "kernelspec": {
   "display_name": "base",
   "language": "python",
   "name": "python3"
  },
  "language_info": {
   "codemirror_mode": {
    "name": "ipython",
    "version": 3
   },
   "file_extension": ".py",
   "mimetype": "text/x-python",
   "name": "python",
   "nbconvert_exporter": "python",
   "pygments_lexer": "ipython3",
   "version": "3.9.12"
  },
  "orig_nbformat": 4
 },
 "nbformat": 4,
 "nbformat_minor": 2
}
