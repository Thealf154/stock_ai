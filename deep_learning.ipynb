{
 "cells": [
  {
   "cell_type": "code",
   "execution_count": 5,
   "metadata": {},
   "outputs": [],
   "source": [
    "# HEAVILY DRAWN FROM: \n",
    "# https://www.tensorflow.org/tutorials/load_data/pandas_dataframe\n",
    "import pandas as pd\n",
    "import tensorflow as tf\n",
    "import os\n",
    "BATCH_SIZE = 2"
   ]
  },
  {
   "cell_type": "code",
   "execution_count": 6,
   "metadata": {},
   "outputs": [
    {
     "name": "stdout",
     "output_type": "stream",
     "text": [
      "Num GPUs Available:  0\n"
     ]
    }
   ],
   "source": [
    "print(\"Num GPUs Available: \", len(tf.config.list_physical_devices('GPU:0')))"
   ]
  },
  {
   "cell_type": "code",
   "execution_count": 7,
   "metadata": {},
   "outputs": [
    {
     "data": {
      "text/html": [
       "<div>\n",
       "<style scoped>\n",
       "    .dataframe tbody tr th:only-of-type {\n",
       "        vertical-align: middle;\n",
       "    }\n",
       "\n",
       "    .dataframe tbody tr th {\n",
       "        vertical-align: top;\n",
       "    }\n",
       "\n",
       "    .dataframe thead th {\n",
       "        text-align: right;\n",
       "    }\n",
       "</style>\n",
       "<table border=\"1\" class=\"dataframe\">\n",
       "  <thead>\n",
       "    <tr style=\"text-align: right;\">\n",
       "      <th></th>\n",
       "      <th>affected_day</th>\n",
       "      <th>ticker</th>\n",
       "      <th>polarity_title</th>\n",
       "      <th>subjectivity_title</th>\n",
       "      <th>polarity_description</th>\n",
       "      <th>subjectivity_description</th>\n",
       "      <th>Open</th>\n",
       "      <th>Close</th>\n",
       "      <th>Open-Close</th>\n",
       "      <th>target</th>\n",
       "    </tr>\n",
       "  </thead>\n",
       "  <tbody>\n",
       "    <tr>\n",
       "      <th>460</th>\n",
       "      <td>2023-05-08</td>\n",
       "      <td>NVDA</td>\n",
       "      <td>-1.586033e-17</td>\n",
       "      <td>0.164286</td>\n",
       "      <td>0.135958</td>\n",
       "      <td>0.484572</td>\n",
       "      <td>285.220001</td>\n",
       "      <td>291.510010</td>\n",
       "      <td>-6.290009</td>\n",
       "      <td>0</td>\n",
       "    </tr>\n",
       "    <tr>\n",
       "      <th>461</th>\n",
       "      <td>2023-05-08</td>\n",
       "      <td>PYPL</td>\n",
       "      <td>0.000000e+00</td>\n",
       "      <td>0.000000</td>\n",
       "      <td>0.172619</td>\n",
       "      <td>0.586905</td>\n",
       "      <td>75.709999</td>\n",
       "      <td>75.519997</td>\n",
       "      <td>0.190002</td>\n",
       "      <td>1</td>\n",
       "    </tr>\n",
       "    <tr>\n",
       "      <th>462</th>\n",
       "      <td>2023-05-08</td>\n",
       "      <td>TSLA</td>\n",
       "      <td>9.444444e-02</td>\n",
       "      <td>0.155556</td>\n",
       "      <td>0.173279</td>\n",
       "      <td>0.439407</td>\n",
       "      <td>173.720001</td>\n",
       "      <td>171.789993</td>\n",
       "      <td>1.930008</td>\n",
       "      <td>1</td>\n",
       "    </tr>\n",
       "    <tr>\n",
       "      <th>463</th>\n",
       "      <td>2023-05-08</td>\n",
       "      <td>TTD</td>\n",
       "      <td>0.000000e+00</td>\n",
       "      <td>0.000000</td>\n",
       "      <td>0.308333</td>\n",
       "      <td>0.558333</td>\n",
       "      <td>62.549999</td>\n",
       "      <td>64.669998</td>\n",
       "      <td>-2.119999</td>\n",
       "      <td>0</td>\n",
       "    </tr>\n",
       "    <tr>\n",
       "      <th>464</th>\n",
       "      <td>2023-05-08</td>\n",
       "      <td>ZG</td>\n",
       "      <td>3.321429e-01</td>\n",
       "      <td>0.703571</td>\n",
       "      <td>0.092092</td>\n",
       "      <td>0.341407</td>\n",
       "      <td>47.500000</td>\n",
       "      <td>47.380001</td>\n",
       "      <td>0.119999</td>\n",
       "      <td>1</td>\n",
       "    </tr>\n",
       "  </tbody>\n",
       "</table>\n",
       "</div>"
      ],
      "text/plain": [
       "    affected_day ticker  polarity_title  subjectivity_title  \\\n",
       "460   2023-05-08   NVDA   -1.586033e-17            0.164286   \n",
       "461   2023-05-08   PYPL    0.000000e+00            0.000000   \n",
       "462   2023-05-08   TSLA    9.444444e-02            0.155556   \n",
       "463   2023-05-08    TTD    0.000000e+00            0.000000   \n",
       "464   2023-05-08     ZG    3.321429e-01            0.703571   \n",
       "\n",
       "     polarity_description  subjectivity_description        Open       Close  \\\n",
       "460              0.135958                  0.484572  285.220001  291.510010   \n",
       "461              0.172619                  0.586905   75.709999   75.519997   \n",
       "462              0.173279                  0.439407  173.720001  171.789993   \n",
       "463              0.308333                  0.558333   62.549999   64.669998   \n",
       "464              0.092092                  0.341407   47.500000   47.380001   \n",
       "\n",
       "     Open-Close  target  \n",
       "460   -6.290009       0  \n",
       "461    0.190002       1  \n",
       "462    1.930008       1  \n",
       "463   -2.119999       0  \n",
       "464    0.119999       1  "
      ]
     },
     "execution_count": 7,
     "metadata": {},
     "output_type": "execute_result"
    }
   ],
   "source": [
    "training_path = os.path.join(\"./\", \"final_results/\", \"trainment.csv\")\n",
    "df = pd.read_csv(training_path)\n",
    "df.tail()"
   ]
  },
  {
   "cell_type": "code",
   "execution_count": 8,
   "metadata": {},
   "outputs": [],
   "source": [
    "target = df.pop('target')"
   ]
  },
  {
   "cell_type": "code",
   "execution_count": 9,
   "metadata": {},
   "outputs": [
    {
     "data": {
      "text/html": [
       "<div>\n",
       "<style scoped>\n",
       "    .dataframe tbody tr th:only-of-type {\n",
       "        vertical-align: middle;\n",
       "    }\n",
       "\n",
       "    .dataframe tbody tr th {\n",
       "        vertical-align: top;\n",
       "    }\n",
       "\n",
       "    .dataframe thead th {\n",
       "        text-align: right;\n",
       "    }\n",
       "</style>\n",
       "<table border=\"1\" class=\"dataframe\">\n",
       "  <thead>\n",
       "    <tr style=\"text-align: right;\">\n",
       "      <th></th>\n",
       "      <th>polarity_title</th>\n",
       "      <th>subjectivity_title</th>\n",
       "      <th>polarity_description</th>\n",
       "      <th>subjectivity_description</th>\n",
       "    </tr>\n",
       "  </thead>\n",
       "  <tbody>\n",
       "    <tr>\n",
       "      <th>0</th>\n",
       "      <td>-0.004167</td>\n",
       "      <td>0.111111</td>\n",
       "      <td>0.106149</td>\n",
       "      <td>0.404040</td>\n",
       "    </tr>\n",
       "    <tr>\n",
       "      <th>1</th>\n",
       "      <td>0.000000</td>\n",
       "      <td>0.000000</td>\n",
       "      <td>0.000000</td>\n",
       "      <td>0.000000</td>\n",
       "    </tr>\n",
       "    <tr>\n",
       "      <th>2</th>\n",
       "      <td>-0.050000</td>\n",
       "      <td>0.100000</td>\n",
       "      <td>0.010683</td>\n",
       "      <td>0.398029</td>\n",
       "    </tr>\n",
       "    <tr>\n",
       "      <th>3</th>\n",
       "      <td>-0.025000</td>\n",
       "      <td>0.075000</td>\n",
       "      <td>0.087066</td>\n",
       "      <td>0.417113</td>\n",
       "    </tr>\n",
       "    <tr>\n",
       "      <th>4</th>\n",
       "      <td>0.000000</td>\n",
       "      <td>0.000000</td>\n",
       "      <td>0.000000</td>\n",
       "      <td>0.000000</td>\n",
       "    </tr>\n",
       "  </tbody>\n",
       "</table>\n",
       "</div>"
      ],
      "text/plain": [
       "   polarity_title  subjectivity_title  polarity_description  \\\n",
       "0       -0.004167            0.111111              0.106149   \n",
       "1        0.000000            0.000000              0.000000   \n",
       "2       -0.050000            0.100000              0.010683   \n",
       "3       -0.025000            0.075000              0.087066   \n",
       "4        0.000000            0.000000              0.000000   \n",
       "\n",
       "   subjectivity_description  \n",
       "0                  0.404040  \n",
       "1                  0.000000  \n",
       "2                  0.398029  \n",
       "3                  0.417113  \n",
       "4                  0.000000  "
      ]
     },
     "execution_count": 9,
     "metadata": {},
     "output_type": "execute_result"
    }
   ],
   "source": [
    "numeric_feature_names = [\n",
    "    'polarity_title', 'subjectivity_title',\n",
    "    'polarity_description', 'subjectivity_description', \n",
    "]\n",
    "numeric_features = df[numeric_feature_names]\n",
    "numeric_features.head()"
   ]
  },
  {
   "cell_type": "code",
   "execution_count": 10,
   "metadata": {},
   "outputs": [
    {
     "name": "stderr",
     "output_type": "stream",
     "text": [
      "2023-05-19 18:31:02.046127: I tensorflow/core/common_runtime/process_util.cc:146] Creating new thread pool with default inter op setting: 2. Tune using inter_op_parallelism_threads for best performance.\n"
     ]
    },
    {
     "data": {
      "text/plain": [
       "<tf.Tensor: shape=(465, 4), dtype=float64, numpy=\n",
       "array([[-0.00416667,  0.11111111,  0.10614922,  0.40404026],\n",
       "       [ 0.        ,  0.        ,  0.        ,  0.        ],\n",
       "       [-0.05      ,  0.1       ,  0.01068309,  0.39802923],\n",
       "       ...,\n",
       "       [ 0.09444444,  0.15555556,  0.17327911,  0.4394066 ],\n",
       "       [ 0.        ,  0.        ,  0.30833333,  0.55833333],\n",
       "       [ 0.33214286,  0.70357143,  0.09209201,  0.3414066 ]])>"
      ]
     },
     "execution_count": 10,
     "metadata": {},
     "output_type": "execute_result"
    }
   ],
   "source": [
    "tf.convert_to_tensor(numeric_features)"
   ]
  },
  {
   "cell_type": "code",
   "execution_count": 11,
   "metadata": {},
   "outputs": [],
   "source": [
    "normalizer = tf.keras.layers.Normalization(axis=-1)\n",
    "normalizer.adapt(numeric_features)"
   ]
  },
  {
   "cell_type": "code",
   "execution_count": 12,
   "metadata": {},
   "outputs": [
    {
     "name": "stdout",
     "output_type": "stream",
     "text": [
      "Epoch 1/15\n",
      "233/233 [==============================] - 2s 5ms/step - loss: 0.6728 - accuracy: 0.6237\n",
      "Epoch 2/15\n",
      "233/233 [==============================] - 1s 4ms/step - loss: 0.6466 - accuracy: 0.6129\n",
      "Epoch 3/15\n",
      "233/233 [==============================] - 1s 4ms/step - loss: 0.6415 - accuracy: 0.6151\n",
      "Epoch 4/15\n",
      "233/233 [==============================] - 1s 4ms/step - loss: 0.6385 - accuracy: 0.6172\n",
      "Epoch 5/15\n",
      "233/233 [==============================] - 1s 5ms/step - loss: 0.6351 - accuracy: 0.6172\n",
      "Epoch 6/15\n",
      "233/233 [==============================] - 1s 3ms/step - loss: 0.6344 - accuracy: 0.6172\n",
      "Epoch 7/15\n",
      "233/233 [==============================] - 1s 4ms/step - loss: 0.6328 - accuracy: 0.6172\n",
      "Epoch 8/15\n",
      "233/233 [==============================] - 1s 3ms/step - loss: 0.6322 - accuracy: 0.6151\n",
      "Epoch 9/15\n",
      "233/233 [==============================] - 1s 3ms/step - loss: 0.6286 - accuracy: 0.6194\n",
      "Epoch 10/15\n",
      "233/233 [==============================] - 1s 4ms/step - loss: 0.6288 - accuracy: 0.6065\n",
      "Epoch 11/15\n",
      "233/233 [==============================] - 1s 4ms/step - loss: 0.6272 - accuracy: 0.6129\n",
      "Epoch 12/15\n",
      "233/233 [==============================] - 1s 3ms/step - loss: 0.6257 - accuracy: 0.6215\n",
      "Epoch 13/15\n",
      "233/233 [==============================] - 1s 3ms/step - loss: 0.6265 - accuracy: 0.6172\n",
      "Epoch 14/15\n",
      "233/233 [==============================] - 1s 4ms/step - loss: 0.6235 - accuracy: 0.6151\n",
      "Epoch 15/15\n",
      "233/233 [==============================] - 1s 4ms/step - loss: 0.6236 - accuracy: 0.6301\n"
     ]
    },
    {
     "data": {
      "text/plain": [
       "<keras.callbacks.History at 0x7f8a205222e0>"
      ]
     },
     "execution_count": 12,
     "metadata": {},
     "output_type": "execute_result"
    }
   ],
   "source": [
    "def get_basic_model():\n",
    "  model = tf.keras.Sequential([\n",
    "    normalizer,\n",
    "    tf.keras.layers.Dense(10, activation='relu'),\n",
    "    tf.keras.layers.Dense(10, activation='relu'),\n",
    "    tf.keras.layers.Dense(1)\n",
    "  ])\n",
    "\n",
    "  model.compile(optimizer='adam',\n",
    "                loss=tf.keras.losses.BinaryCrossentropy(from_logits=True),\n",
    "                metrics=['accuracy'])\n",
    "  return model\n",
    "\n",
    "model = get_basic_model()\n",
    "model.fit(numeric_features, target, epochs=15, batch_size=BATCH_SIZE)"
   ]
  },
  {
   "cell_type": "code",
   "execution_count": 13,
   "metadata": {},
   "outputs": [
    {
     "name": "stdout",
     "output_type": "stream",
     "text": [
      "Model: \"sequential\"\n",
      "_________________________________________________________________\n",
      " Layer (type)                Output Shape              Param #   \n",
      "=================================================================\n",
      " normalization (Normalizatio  (None, 4)                9         \n",
      " n)                                                              \n",
      "                                                                 \n",
      " dense (Dense)               (None, 10)                50        \n",
      "                                                                 \n",
      " dense_1 (Dense)             (None, 10)                110       \n",
      "                                                                 \n",
      " dense_2 (Dense)             (None, 1)                 11        \n",
      "                                                                 \n",
      "=================================================================\n",
      "Total params: 180\n",
      "Trainable params: 171\n",
      "Non-trainable params: 9\n",
      "_________________________________________________________________\n"
     ]
    }
   ],
   "source": [
    "model.summary()"
   ]
  },
  {
   "cell_type": "code",
   "execution_count": 14,
   "metadata": {},
   "outputs": [
    {
     "name": "stderr",
     "output_type": "stream",
     "text": [
      "WARNING:absl:Found untraced functions such as _update_step_xla while saving (showing 1 of 1). These functions will not be directly callable after loading.\n"
     ]
    },
    {
     "name": "stdout",
     "output_type": "stream",
     "text": [
      "INFO:tensorflow:Assets written to: saved_model/my_model/assets\n"
     ]
    },
    {
     "name": "stderr",
     "output_type": "stream",
     "text": [
      "INFO:tensorflow:Assets written to: saved_model/my_model/assets\n"
     ]
    }
   ],
   "source": [
    "model.save('saved_model/my_model')"
   ]
  },
  {
   "cell_type": "code",
   "execution_count": 18,
   "metadata": {},
   "outputs": [],
   "source": [
    "test_set = pd.read_csv(\"./final_results/test.csv\")"
   ]
  },
  {
   "cell_type": "code",
   "execution_count": 21,
   "metadata": {},
   "outputs": [
    {
     "name": "stdout",
     "output_type": "stream",
     "text": [
      "15/15 - 0s - loss: 0.6783 - accuracy: 0.6329 - 284ms/epoch - 19ms/step\n",
      "\n",
      "Test accuracy: 0.6329113841056824\n"
     ]
    }
   ],
   "source": [
    "numeric_feature_names = [\n",
    "    'polarity_title', 'subjectivity_title',\n",
    "    'polarity_description', 'subjectivity_description', \n",
    "]\n",
    "numeric_features = test_set[numeric_feature_names]\n",
    "tf.convert_to_tensor(numeric_features)\n",
    "target = test_set.pop('target')\n",
    "test_loss, test_acc = model.evaluate(x = numeric_features, y = target,verbose=2)\n",
    "print('\\nTest accuracy:', test_acc)"
   ]
  },
  {
   "cell_type": "code",
   "execution_count": null,
   "metadata": {},
   "outputs": [],
   "source": []
  }
 ],
 "metadata": {
  "kernelspec": {
   "display_name": "base",
   "language": "python",
   "name": "python3"
  },
  "language_info": {
   "codemirror_mode": {
    "name": "ipython",
    "version": 3
   },
   "file_extension": ".py",
   "mimetype": "text/x-python",
   "name": "python",
   "nbconvert_exporter": "python",
   "pygments_lexer": "ipython3",
   "version": "3.9.12"
  },
  "orig_nbformat": 4
 },
 "nbformat": 4,
 "nbformat_minor": 2
}
