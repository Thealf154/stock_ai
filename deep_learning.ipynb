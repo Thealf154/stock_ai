{
 "cells": [
  {
   "cell_type": "code",
   "execution_count": 15,
   "metadata": {},
   "outputs": [],
   "source": [
    "# HEAVILY DRAWN FROM: \n",
    "# https://www.tensorflow.org/tutorials/load_data/pandas_dataframe\n",
    "import pandas as pd\n",
    "import tensorflow as tf\n",
    "import os\n",
    "import matplotlib.pyplot as plt\n",
    "import numpy as np\n",
    "BATCH_SIZE = 2"
   ]
  },
  {
   "cell_type": "code",
   "execution_count": 231,
   "metadata": {},
   "outputs": [
    {
     "name": "stdout",
     "output_type": "stream",
     "text": [
      "Num GPUs Available:  0\n"
     ]
    }
   ],
   "source": [
    "print(\"Num GPUs Available: \", len(tf.config.list_physical_devices('GPU:0')))"
   ]
  },
  {
   "cell_type": "code",
   "execution_count": 232,
   "metadata": {},
   "outputs": [],
   "source": [
    "training_path = os.path.join(\"./\", \"final_results/\", \"trainment.csv\")\n",
    "test_set = pd.read_csv(\"./final_results/test.csv\")\n",
    "df = pd.read_csv(training_path)\n",
    "df = pd.concat([test_set, df])\n",
    "df = df.dropna(axis=1)"
   ]
  },
  {
   "cell_type": "code",
   "execution_count": 233,
   "metadata": {},
   "outputs": [],
   "source": [
    "target = df.pop('target')"
   ]
  },
  {
   "cell_type": "code",
   "execution_count": 234,
   "metadata": {},
   "outputs": [
    {
     "data": {
      "text/html": [
       "<div>\n",
       "<style scoped>\n",
       "    .dataframe tbody tr th:only-of-type {\n",
       "        vertical-align: middle;\n",
       "    }\n",
       "\n",
       "    .dataframe tbody tr th {\n",
       "        vertical-align: top;\n",
       "    }\n",
       "\n",
       "    .dataframe thead th {\n",
       "        text-align: right;\n",
       "    }\n",
       "</style>\n",
       "<table border=\"1\" class=\"dataframe\">\n",
       "  <thead>\n",
       "    <tr style=\"text-align: right;\">\n",
       "      <th></th>\n",
       "      <th>polarity_title</th>\n",
       "      <th>subjectivity_title</th>\n",
       "      <th>polarity_description</th>\n",
       "      <th>subjectivity_description</th>\n",
       "    </tr>\n",
       "  </thead>\n",
       "  <tbody>\n",
       "    <tr>\n",
       "      <th>0</th>\n",
       "      <td>-0.10</td>\n",
       "      <td>0.200000</td>\n",
       "      <td>-0.10</td>\n",
       "      <td>0.200000</td>\n",
       "    </tr>\n",
       "    <tr>\n",
       "      <th>1</th>\n",
       "      <td>-0.10</td>\n",
       "      <td>0.200000</td>\n",
       "      <td>-0.10</td>\n",
       "      <td>0.200000</td>\n",
       "    </tr>\n",
       "    <tr>\n",
       "      <th>2</th>\n",
       "      <td>-0.05</td>\n",
       "      <td>0.150000</td>\n",
       "      <td>-0.05</td>\n",
       "      <td>0.150000</td>\n",
       "    </tr>\n",
       "    <tr>\n",
       "      <th>3</th>\n",
       "      <td>0.10</td>\n",
       "      <td>0.633333</td>\n",
       "      <td>0.10</td>\n",
       "      <td>0.633333</td>\n",
       "    </tr>\n",
       "    <tr>\n",
       "      <th>4</th>\n",
       "      <td>-0.25</td>\n",
       "      <td>0.250000</td>\n",
       "      <td>-0.25</td>\n",
       "      <td>0.250000</td>\n",
       "    </tr>\n",
       "  </tbody>\n",
       "</table>\n",
       "</div>"
      ],
      "text/plain": [
       "   polarity_title  subjectivity_title  polarity_description  \\\n",
       "0           -0.10            0.200000                 -0.10   \n",
       "1           -0.10            0.200000                 -0.10   \n",
       "2           -0.05            0.150000                 -0.05   \n",
       "3            0.10            0.633333                  0.10   \n",
       "4           -0.25            0.250000                 -0.25   \n",
       "\n",
       "   subjectivity_description  \n",
       "0                  0.200000  \n",
       "1                  0.200000  \n",
       "2                  0.150000  \n",
       "3                  0.633333  \n",
       "4                  0.250000  "
      ]
     },
     "execution_count": 234,
     "metadata": {},
     "output_type": "execute_result"
    }
   ],
   "source": [
    "numeric_feature_names = [\n",
    "    'polarity_title', 'subjectivity_title',\n",
    "    'polarity_description', 'subjectivity_description', \n",
    "]\n",
    "numeric_features = df[numeric_feature_names]\n",
    "numeric_features.head()"
   ]
  },
  {
   "cell_type": "code",
   "execution_count": 235,
   "metadata": {},
   "outputs": [
    {
     "data": {
      "text/plain": [
       "<tf.Tensor: shape=(859, 4), dtype=float64, numpy=\n",
       "array([[-0.1       ,  0.2       , -0.1       ,  0.2       ],\n",
       "       [-0.1       ,  0.2       , -0.1       ,  0.2       ],\n",
       "       [-0.05      ,  0.15      , -0.05      ,  0.15      ],\n",
       "       ...,\n",
       "       [ 0.09444444,  0.15555556,  0.17327911,  0.4394066 ],\n",
       "       [ 0.        ,  0.        ,  0.30833333,  0.55833333],\n",
       "       [ 0.33214286,  0.70357143,  0.09209201,  0.3414066 ]])>"
      ]
     },
     "execution_count": 235,
     "metadata": {},
     "output_type": "execute_result"
    }
   ],
   "source": [
    "tf.convert_to_tensor(numeric_features)"
   ]
  },
  {
   "cell_type": "code",
   "execution_count": 236,
   "metadata": {},
   "outputs": [],
   "source": [
    "normalizer = tf.keras.layers.Normalization(axis=-1)\n",
    "normalizer.adapt(numeric_features)"
   ]
  },
  {
   "cell_type": "code",
   "execution_count": 237,
   "metadata": {},
   "outputs": [
    {
     "name": "stdout",
     "output_type": "stream",
     "text": [
      "Epoch 1/15\n",
      "430/430 [==============================] - 4s 7ms/step - loss: 0.6760 - accuracy: 0.6112\n",
      "Epoch 2/15\n",
      "430/430 [==============================] - 4s 9ms/step - loss: 0.6616 - accuracy: 0.6135\n",
      "Epoch 3/15\n",
      "430/430 [==============================] - 3s 7ms/step - loss: 0.6584 - accuracy: 0.6135\n",
      "Epoch 4/15\n",
      "430/430 [==============================] - 2s 6ms/step - loss: 0.6560 - accuracy: 0.6135\n",
      "Epoch 5/15\n",
      "430/430 [==============================] - 4s 9ms/step - loss: 0.6535 - accuracy: 0.6135\n",
      "Epoch 6/15\n",
      "430/430 [==============================] - 3s 7ms/step - loss: 0.6514 - accuracy: 0.6135\n",
      "Epoch 7/15\n",
      "430/430 [==============================] - 3s 7ms/step - loss: 0.6514 - accuracy: 0.6170\n",
      "Epoch 8/15\n",
      "430/430 [==============================] - 3s 7ms/step - loss: 0.6498 - accuracy: 0.6158\n",
      "Epoch 9/15\n",
      "430/430 [==============================] - 2s 5ms/step - loss: 0.6492 - accuracy: 0.6193\n",
      "Epoch 10/15\n",
      "430/430 [==============================] - 3s 8ms/step - loss: 0.6478 - accuracy: 0.6193\n",
      "Epoch 11/15\n",
      "430/430 [==============================] - 3s 6ms/step - loss: 0.6475 - accuracy: 0.6193\n",
      "Epoch 12/15\n",
      "430/430 [==============================] - 3s 7ms/step - loss: 0.6468 - accuracy: 0.6193\n",
      "Epoch 13/15\n",
      "430/430 [==============================] - 3s 6ms/step - loss: 0.6453 - accuracy: 0.6205\n",
      "Epoch 14/15\n",
      "430/430 [==============================] - 3s 8ms/step - loss: 0.6455 - accuracy: 0.6182\n",
      "Epoch 15/15\n",
      "430/430 [==============================] - 3s 7ms/step - loss: 0.6444 - accuracy: 0.6193\n"
     ]
    },
    {
     "data": {
      "text/plain": [
       "<keras.callbacks.History at 0x7f88daa3d790>"
      ]
     },
     "execution_count": 237,
     "metadata": {},
     "output_type": "execute_result"
    }
   ],
   "source": [
    "def get_basic_model():\n",
    "  model = tf.keras.Sequential([\n",
    "    normalizer,\n",
    "    tf.keras.layers.Dense(10, activation='relu'),\n",
    "    tf.keras.layers.Dense(10, activation='relu'),\n",
    "    tf.keras.layers.Dense(1)\n",
    "  ])\n",
    "\n",
    "  model.compile(optimizer='adam',\n",
    "                loss=tf.keras.losses.BinaryCrossentropy(from_logits=True),\n",
    "                metrics=['accuracy'])\n",
    "  return model\n",
    "\n",
    "model = get_basic_model()\n",
    "model.fit(numeric_features, target, epochs=15, batch_size=BATCH_SIZE)"
   ]
  },
  {
   "cell_type": "code",
   "execution_count": 3,
   "metadata": {},
   "outputs": [
    {
     "name": "stderr",
     "output_type": "stream",
     "text": [
      "2023-05-23 10:14:46.200322: I tensorflow/core/common_runtime/process_util.cc:146] Creating new thread pool with default inter op setting: 2. Tune using inter_op_parallelism_threads for best performance.\n"
     ]
    },
    {
     "name": "stdout",
     "output_type": "stream",
     "text": [
      "Model: \"sequential_23\"\n",
      "_________________________________________________________________\n",
      " Layer (type)                Output Shape              Param #   \n",
      "=================================================================\n",
      " normalization_13 (Normaliza  (None, 4)                9         \n",
      " tion)                                                           \n",
      "                                                                 \n",
      " dense_39 (Dense)            (None, 10)                50        \n",
      "                                                                 \n",
      " dense_40 (Dense)            (None, 10)                110       \n",
      "                                                                 \n",
      " dense_41 (Dense)            (None, 1)                 11        \n",
      "                                                                 \n",
      "=================================================================\n",
      "Total params: 180\n",
      "Trainable params: 171\n",
      "Non-trainable params: 9\n",
      "_________________________________________________________________\n"
     ]
    }
   ],
   "source": [
    "model = tf.keras.models.load_model('saved_model/my_model')\n",
    "model.summary()"
   ]
  },
  {
   "cell_type": "code",
   "execution_count": 4,
   "metadata": {},
   "outputs": [
    {
     "name": "stderr",
     "output_type": "stream",
     "text": [
      "WARNING:absl:Found untraced functions such as _update_step_xla while saving (showing 1 of 1). These functions will not be directly callable after loading.\n"
     ]
    },
    {
     "name": "stdout",
     "output_type": "stream",
     "text": [
      "INFO:tensorflow:Assets written to: saved_model/my_model/assets\n"
     ]
    },
    {
     "name": "stderr",
     "output_type": "stream",
     "text": [
      "INFO:tensorflow:Assets written to: saved_model/my_model/assets\n"
     ]
    }
   ],
   "source": [
    "model.save('saved_model/my_model')"
   ]
  },
  {
   "cell_type": "code",
   "execution_count": 5,
   "metadata": {},
   "outputs": [],
   "source": [
    "test_set = pd.read_csv(\"./final_results/test.csv\")"
   ]
  },
  {
   "cell_type": "code",
   "execution_count": 6,
   "metadata": {},
   "outputs": [
    {
     "name": "stdout",
     "output_type": "stream",
     "text": [
      "13/13 - 0s - loss: 0.6484 - accuracy: 0.6218 - 232ms/epoch - 18ms/step\n",
      "\n",
      "Test accuracy: 0.6218274235725403\n"
     ]
    }
   ],
   "source": [
    "numeric_feature_names = [\n",
    "    'polarity_title', 'subjectivity_title',\n",
    "    'polarity_description', 'subjectivity_description', \n",
    "]\n",
    "numeric_features = test_set[numeric_feature_names]\n",
    "tf.convert_to_tensor(numeric_features)\n",
    "target = test_set.pop('target')\n",
    "test_loss, test_acc = model.evaluate(x = numeric_features, y = target,verbose=2)\n",
    "print('\\nTest accuracy:', test_acc)"
   ]
  },
  {
   "cell_type": "code",
   "execution_count": 10,
   "metadata": {},
   "outputs": [
    {
     "name": "stdout",
     "output_type": "stream",
     "text": [
      "13/13 [==============================] - 0s 8ms/step\n"
     ]
    }
   ],
   "source": [
    "probability_model = tf.keras.Sequential([model, \n",
    "                                         tf.keras.layers.Softmax()])\n",
    "predictions = probability_model.predict(numeric_features)"
   ]
  },
  {
   "cell_type": "code",
   "execution_count": 40,
   "metadata": {},
   "outputs": [
    {
     "data": {
      "image/png": "[encoded data removed]",
      "text/plain": [
       "<Figure size 640x480 with 1 Axes>"
      ]
     },
     "metadata": {},
     "output_type": "display_data"
    }
   ],
   "source": [
    "class_names = ['Down', 'Up']\n",
    "def plot_image(i, predictions_array, true_label, news):\n",
    "  true_label, news = true_label[i], news.iloc[i]\n",
    "  plt.grid(False)\n",
    "\n",
    "  bars = news.to_list()[2:6]\n",
    "  plt.bar(['polarity_t', 'subjectivity_t',      \n",
    "           'polarity_d', 'subjectivity_d'], \n",
    "            bars,\n",
    "            )\n",
    "\n",
    "  predicted_label =predictions_array[0]\n",
    "\n",
    "  plt.xlabel(\"Prediction: {} Reality: {}\".format(\n",
    "    class_names[int(predicted_label)],\n",
    "    class_names[target[i]]))\n",
    "\n",
    "plot_image(0, predictions[0], class_names, test_set)"
   ]
  }
 ],
 "metadata": {
  "kernelspec": {
   "display_name": "base",
   "language": "python",
   "name": "python3"
  },
  "language_info": {
   "codemirror_mode": {
    "name": "ipython",
    "version": 3
   },
   "file_extension": ".py",
   "mimetype": "text/x-python",
   "name": "python",
   "nbconvert_exporter": "python",
   "pygments_lexer": "ipython3",
   "version": "3.9.12"
  },
  "orig_nbformat": 4
 },
 "nbformat": 4,
 "nbformat_minor": 2
}
