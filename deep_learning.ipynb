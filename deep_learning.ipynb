{
 "cells": [
  {
   "cell_type": "code",
   "execution_count": 4,
   "metadata": {},
   "outputs": [],
   "source": [
    "# HEAVILY DRAWN FROM: \n",
    "# https://www.tensorflow.org/tutorials/load_data/pandas_dataframe\n",
    "import pandas as pd\n",
    "import tensorflow as tf\n",
    "import os\n",
    "BATCH_SIZE = 2"
   ]
  },
  {
   "cell_type": "code",
   "execution_count": 5,
   "metadata": {},
   "outputs": [
    {
     "name": "stdout",
     "output_type": "stream",
     "text": [
      "Num GPUs Available:  0\n"
     ]
    }
   ],
   "source": [
    "print(\"Num GPUs Available: \", len(tf.config.list_physical_devices('GPU:0')))"
   ]
  },
  {
   "cell_type": "code",
   "execution_count": 6,
   "metadata": {},
   "outputs": [
    {
     "data": {
      "text/html": [
       "<div>\n",
       "<style scoped>\n",
       "    .dataframe tbody tr th:only-of-type {\n",
       "        vertical-align: middle;\n",
       "    }\n",
       "\n",
       "    .dataframe tbody tr th {\n",
       "        vertical-align: top;\n",
       "    }\n",
       "\n",
       "    .dataframe thead th {\n",
       "        text-align: right;\n",
       "    }\n",
       "</style>\n",
       "<table border=\"1\" class=\"dataframe\">\n",
       "  <thead>\n",
       "    <tr style=\"text-align: right;\">\n",
       "      <th></th>\n",
       "      <th>ticker</th>\n",
       "      <th>polarity_title</th>\n",
       "      <th>subjectivity_title</th>\n",
       "      <th>polarity_description</th>\n",
       "      <th>subjectivity_description</th>\n",
       "      <th>Open</th>\n",
       "      <th>Close</th>\n",
       "      <th>Open-Close</th>\n",
       "      <th>target</th>\n",
       "    </tr>\n",
       "  </thead>\n",
       "  <tbody>\n",
       "    <tr>\n",
       "      <th>1592</th>\n",
       "      <td>YELP</td>\n",
       "      <td>0.000</td>\n",
       "      <td>0.100000</td>\n",
       "      <td>0.182567</td>\n",
       "      <td>0.392550</td>\n",
       "      <td>29.440001</td>\n",
       "      <td>30.33</td>\n",
       "      <td>-0.889999</td>\n",
       "      <td>0</td>\n",
       "    </tr>\n",
       "    <tr>\n",
       "      <th>1593</th>\n",
       "      <td>YELP</td>\n",
       "      <td>0.000</td>\n",
       "      <td>0.000000</td>\n",
       "      <td>0.180139</td>\n",
       "      <td>0.416358</td>\n",
       "      <td>29.440001</td>\n",
       "      <td>30.33</td>\n",
       "      <td>-0.889999</td>\n",
       "      <td>0</td>\n",
       "    </tr>\n",
       "    <tr>\n",
       "      <th>1594</th>\n",
       "      <td>YELP</td>\n",
       "      <td>0.075</td>\n",
       "      <td>0.366667</td>\n",
       "      <td>0.075000</td>\n",
       "      <td>0.366667</td>\n",
       "      <td>29.440001</td>\n",
       "      <td>30.33</td>\n",
       "      <td>-0.889999</td>\n",
       "      <td>0</td>\n",
       "    </tr>\n",
       "    <tr>\n",
       "      <th>1595</th>\n",
       "      <td>YELP</td>\n",
       "      <td>0.000</td>\n",
       "      <td>0.000000</td>\n",
       "      <td>0.132656</td>\n",
       "      <td>0.404388</td>\n",
       "      <td>29.440001</td>\n",
       "      <td>30.33</td>\n",
       "      <td>-0.889999</td>\n",
       "      <td>0</td>\n",
       "    </tr>\n",
       "    <tr>\n",
       "      <th>1596</th>\n",
       "      <td>YELP</td>\n",
       "      <td>0.000</td>\n",
       "      <td>0.000000</td>\n",
       "      <td>0.099260</td>\n",
       "      <td>0.424278</td>\n",
       "      <td>29.440001</td>\n",
       "      <td>30.33</td>\n",
       "      <td>-0.889999</td>\n",
       "      <td>0</td>\n",
       "    </tr>\n",
       "  </tbody>\n",
       "</table>\n",
       "</div>"
      ],
      "text/plain": [
       "     ticker  polarity_title  subjectivity_title  polarity_description  \\\n",
       "1592   YELP           0.000            0.100000              0.182567   \n",
       "1593   YELP           0.000            0.000000              0.180139   \n",
       "1594   YELP           0.075            0.366667              0.075000   \n",
       "1595   YELP           0.000            0.000000              0.132656   \n",
       "1596   YELP           0.000            0.000000              0.099260   \n",
       "\n",
       "      subjectivity_description       Open  Close  Open-Close  target  \n",
       "1592                  0.392550  29.440001  30.33   -0.889999       0  \n",
       "1593                  0.416358  29.440001  30.33   -0.889999       0  \n",
       "1594                  0.366667  29.440001  30.33   -0.889999       0  \n",
       "1595                  0.404388  29.440001  30.33   -0.889999       0  \n",
       "1596                  0.424278  29.440001  30.33   -0.889999       0  "
      ]
     },
     "execution_count": 6,
     "metadata": {},
     "output_type": "execute_result"
    }
   ],
   "source": [
    "training_path = os.path.join(\"./\", \"final_results/\", \"trainment.csv\")\n",
    "df = pd.read_csv(training_path)\n",
    "df.tail()"
   ]
  },
  {
   "cell_type": "code",
   "execution_count": 7,
   "metadata": {},
   "outputs": [],
   "source": [
    "target = df.pop('target')"
   ]
  },
  {
   "cell_type": "code",
   "execution_count": 8,
   "metadata": {},
   "outputs": [
    {
     "data": {
      "text/html": [
       "<div>\n",
       "<style scoped>\n",
       "    .dataframe tbody tr th:only-of-type {\n",
       "        vertical-align: middle;\n",
       "    }\n",
       "\n",
       "    .dataframe tbody tr th {\n",
       "        vertical-align: top;\n",
       "    }\n",
       "\n",
       "    .dataframe thead th {\n",
       "        text-align: right;\n",
       "    }\n",
       "</style>\n",
       "<table border=\"1\" class=\"dataframe\">\n",
       "  <thead>\n",
       "    <tr style=\"text-align: right;\">\n",
       "      <th></th>\n",
       "      <th>polarity_title</th>\n",
       "      <th>subjectivity_title</th>\n",
       "      <th>polarity_description</th>\n",
       "      <th>subjectivity_description</th>\n",
       "    </tr>\n",
       "  </thead>\n",
       "  <tbody>\n",
       "    <tr>\n",
       "      <th>0</th>\n",
       "      <td>0.0</td>\n",
       "      <td>0.0</td>\n",
       "      <td>0.254308</td>\n",
       "      <td>0.624943</td>\n",
       "    </tr>\n",
       "    <tr>\n",
       "      <th>1</th>\n",
       "      <td>-0.5</td>\n",
       "      <td>0.7</td>\n",
       "      <td>0.131250</td>\n",
       "      <td>0.479861</td>\n",
       "    </tr>\n",
       "    <tr>\n",
       "      <th>2</th>\n",
       "      <td>0.0</td>\n",
       "      <td>0.0</td>\n",
       "      <td>0.151176</td>\n",
       "      <td>0.502663</td>\n",
       "    </tr>\n",
       "    <tr>\n",
       "      <th>3</th>\n",
       "      <td>0.0</td>\n",
       "      <td>0.0</td>\n",
       "      <td>0.098940</td>\n",
       "      <td>0.376537</td>\n",
       "    </tr>\n",
       "    <tr>\n",
       "      <th>4</th>\n",
       "      <td>0.5</td>\n",
       "      <td>0.5</td>\n",
       "      <td>0.100000</td>\n",
       "      <td>0.600000</td>\n",
       "    </tr>\n",
       "  </tbody>\n",
       "</table>\n",
       "</div>"
      ],
      "text/plain": [
       "   polarity_title  subjectivity_title  polarity_description  \\\n",
       "0             0.0                 0.0              0.254308   \n",
       "1            -0.5                 0.7              0.131250   \n",
       "2             0.0                 0.0              0.151176   \n",
       "3             0.0                 0.0              0.098940   \n",
       "4             0.5                 0.5              0.100000   \n",
       "\n",
       "   subjectivity_description  \n",
       "0                  0.624943  \n",
       "1                  0.479861  \n",
       "2                  0.502663  \n",
       "3                  0.376537  \n",
       "4                  0.600000  "
      ]
     },
     "execution_count": 8,
     "metadata": {},
     "output_type": "execute_result"
    }
   ],
   "source": [
    "numeric_feature_names = [\n",
    "    'polarity_title', 'subjectivity_title',\n",
    "    'polarity_description', 'subjectivity_description', \n",
    "]\n",
    "numeric_features = df[numeric_feature_names]\n",
    "numeric_features.head()"
   ]
  },
  {
   "cell_type": "code",
   "execution_count": 9,
   "metadata": {},
   "outputs": [
    {
     "name": "stderr",
     "output_type": "stream",
     "text": [
      "2023-05-19 11:04:02.180933: I tensorflow/core/common_runtime/process_util.cc:146] Creating new thread pool with default inter op setting: 2. Tune using inter_op_parallelism_threads for best performance.\n"
     ]
    },
    {
     "data": {
      "text/plain": [
       "<tf.Tensor: shape=(1597, 4), dtype=float64, numpy=\n",
       "array([[ 0.        ,  0.        ,  0.25430839,  0.62494331],\n",
       "       [-0.5       ,  0.7       ,  0.13125   ,  0.47986111],\n",
       "       [ 0.        ,  0.        ,  0.15117624,  0.50266291],\n",
       "       ...,\n",
       "       [ 0.075     ,  0.36666667,  0.075     ,  0.36666667],\n",
       "       [ 0.        ,  0.        ,  0.1326564 ,  0.40438842],\n",
       "       [ 0.        ,  0.        ,  0.09926046,  0.4242785 ]])>"
      ]
     },
     "execution_count": 9,
     "metadata": {},
     "output_type": "execute_result"
    }
   ],
   "source": [
    "tf.convert_to_tensor(numeric_features)"
   ]
  },
  {
   "cell_type": "code",
   "execution_count": 10,
   "metadata": {},
   "outputs": [],
   "source": [
    "normalizer = tf.keras.layers.Normalization(axis=-1)\n",
    "normalizer.adapt(numeric_features)"
   ]
  },
  {
   "cell_type": "code",
   "execution_count": 11,
   "metadata": {},
   "outputs": [
    {
     "name": "stdout",
     "output_type": "stream",
     "text": [
      "Epoch 1/15\n",
      "799/799 [==============================] - 5s 5ms/step - loss: 0.6969 - accuracy: 0.4884\n",
      "Epoch 2/15\n",
      "799/799 [==============================] - 4s 5ms/step - loss: 0.6906 - accuracy: 0.4872\n",
      "Epoch 3/15\n",
      "799/799 [==============================] - 3s 4ms/step - loss: 0.6891 - accuracy: 0.4890\n",
      "Epoch 4/15\n",
      "799/799 [==============================] - 4s 4ms/step - loss: 0.6887 - accuracy: 0.4997\n",
      "Epoch 5/15\n",
      "799/799 [==============================] - 4s 5ms/step - loss: 0.6875 - accuracy: 0.5022\n",
      "Epoch 6/15\n",
      "799/799 [==============================] - 4s 5ms/step - loss: 0.6868 - accuracy: 0.4984\n",
      "Epoch 7/15\n",
      "799/799 [==============================] - 4s 5ms/step - loss: 0.6862 - accuracy: 0.5078\n",
      "Epoch 8/15\n",
      "799/799 [==============================] - 6s 7ms/step - loss: 0.6858 - accuracy: 0.5110\n",
      "Epoch 9/15\n",
      "799/799 [==============================] - 3s 4ms/step - loss: 0.6851 - accuracy: 0.5141\n",
      "Epoch 10/15\n",
      "799/799 [==============================] - 5s 6ms/step - loss: 0.6846 - accuracy: 0.5147\n",
      "Epoch 11/15\n",
      "799/799 [==============================] - 3s 4ms/step - loss: 0.6839 - accuracy: 0.5135\n",
      "Epoch 12/15\n",
      "799/799 [==============================] - 3s 4ms/step - loss: 0.6845 - accuracy: 0.5166\n",
      "Epoch 13/15\n",
      "799/799 [==============================] - 3s 4ms/step - loss: 0.6840 - accuracy: 0.5191\n",
      "Epoch 14/15\n",
      "799/799 [==============================] - 3s 4ms/step - loss: 0.6837 - accuracy: 0.5191\n",
      "Epoch 15/15\n",
      "799/799 [==============================] - 3s 4ms/step - loss: 0.6831 - accuracy: 0.5185\n"
     ]
    },
    {
     "data": {
      "text/plain": [
       "<keras.callbacks.History at 0x7fb898393670>"
      ]
     },
     "execution_count": 11,
     "metadata": {},
     "output_type": "execute_result"
    }
   ],
   "source": [
    "def get_basic_model():\n",
    "  model = tf.keras.Sequential([\n",
    "    normalizer,\n",
    "    tf.keras.layers.Dense(10, activation='relu'),\n",
    "    tf.keras.layers.Dense(10, activation='relu'),\n",
    "    tf.keras.layers.Dense(1)\n",
    "  ])\n",
    "\n",
    "  model.compile(optimizer='adam',\n",
    "                loss=tf.keras.losses.BinaryCrossentropy(from_logits=True),\n",
    "                metrics=['accuracy'])\n",
    "  return model\n",
    "\n",
    "model = get_basic_model()\n",
    "model.fit(numeric_features, target, epochs=15, batch_size=BATCH_SIZE)"
   ]
  },
  {
   "cell_type": "code",
   "execution_count": 14,
   "metadata": {},
   "outputs": [
    {
     "name": "stdout",
     "output_type": "stream",
     "text": [
      "Model: \"sequential\"\n",
      "_________________________________________________________________\n",
      " Layer (type)                Output Shape              Param #   \n",
      "=================================================================\n",
      " normalization (Normalizatio  (None, 4)                9         \n",
      " n)                                                              \n",
      "                                                                 \n",
      " dense (Dense)               (None, 10)                50        \n",
      "                                                                 \n",
      " dense_1 (Dense)             (None, 10)                110       \n",
      "                                                                 \n",
      " dense_2 (Dense)             (None, 1)                 11        \n",
      "                                                                 \n",
      "=================================================================\n",
      "Total params: 180\n",
      "Trainable params: 171\n",
      "Non-trainable params: 9\n",
      "_________________________________________________________________\n"
     ]
    }
   ],
   "source": [
    "model.summary()"
   ]
  },
  {
   "cell_type": "code",
   "execution_count": 15,
   "metadata": {},
   "outputs": [
    {
     "name": "stderr",
     "output_type": "stream",
     "text": [
      "WARNING:absl:Found untraced functions such as _update_step_xla while saving (showing 1 of 1). These functions will not be directly callable after loading.\n"
     ]
    },
    {
     "name": "stdout",
     "output_type": "stream",
     "text": [
      "INFO:tensorflow:Assets written to: saved_model/my_model/assets\n"
     ]
    },
    {
     "name": "stderr",
     "output_type": "stream",
     "text": [
      "INFO:tensorflow:Assets written to: saved_model/my_model/assets\n"
     ]
    }
   ],
   "source": [
    "model.save('saved_model/my_model')"
   ]
  },
  {
   "cell_type": "code",
   "execution_count": null,
   "metadata": {},
   "outputs": [],
   "source": []
  }
 ],
 "metadata": {
  "kernelspec": {
   "display_name": "base",
   "language": "python",
   "name": "python3"
  },
  "language_info": {
   "codemirror_mode": {
    "name": "ipython",
    "version": 3
   },
   "file_extension": ".py",
   "mimetype": "text/x-python",
   "name": "python",
   "nbconvert_exporter": "python",
   "pygments_lexer": "ipython3",
   "version": "3.9.12"
  },
  "orig_nbformat": 4
 },
 "nbformat": 4,
 "nbformat_minor": 2
}
